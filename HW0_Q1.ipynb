{
 "metadata": {
  "name": ""
 },
 "nbformat": 3,
 "nbformat_minor": 0,
 "worksheets": [
  {
   "cells": [
    {
     "cell_type": "heading",
     "level": 3,
     "metadata": {},
     "source": [
      "Homework 0, Question 1"
     ]
    },
    {
     "cell_type": "code",
     "collapsed": false,
     "input": [
      "import networkx as nx\n",
      "from collections import Counter"
     ],
     "language": "python",
     "metadata": {},
     "outputs": [],
     "prompt_number": 41
    },
    {
     "cell_type": "code",
     "collapsed": false,
     "input": [
      "G = nx.read_edgelist(\"wiki-Vote.txt\",create_using=nx.DiGraph())"
     ],
     "language": "python",
     "metadata": {},
     "outputs": [],
     "prompt_number": 42
    },
    {
     "cell_type": "heading",
     "level": 4,
     "metadata": {},
     "source": [
      "a) Number of nodes in the network"
     ]
    },
    {
     "cell_type": "code",
     "collapsed": false,
     "input": [
      "len(G.nodes())"
     ],
     "language": "python",
     "metadata": {},
     "outputs": [
      {
       "metadata": {},
       "output_type": "pyout",
       "prompt_number": 43,
       "text": [
        "7115"
       ]
      }
     ],
     "prompt_number": 43
    },
    {
     "cell_type": "heading",
     "level": 4,
     "metadata": {},
     "source": [
      "b) Number of nodes with a self edge"
     ]
    },
    {
     "cell_type": "code",
     "collapsed": false,
     "input": [
      "len(G.nodes_with_selfloops())"
     ],
     "language": "python",
     "metadata": {},
     "outputs": [
      {
       "metadata": {},
       "output_type": "pyout",
       "prompt_number": 44,
       "text": [
        "0"
       ]
      }
     ],
     "prompt_number": 44
    },
    {
     "cell_type": "heading",
     "level": 4,
     "metadata": {},
     "source": [
      "c) Number of directed edges"
     ]
    },
    {
     "cell_type": "code",
     "collapsed": false,
     "input": [
      "len(G.edges())-len(G.nodes_with_selfloops())"
     ],
     "language": "python",
     "metadata": {},
     "outputs": [
      {
       "metadata": {},
       "output_type": "pyout",
       "prompt_number": 45,
       "text": [
        "103689"
       ]
      }
     ],
     "prompt_number": 45
    },
    {
     "cell_type": "markdown",
     "metadata": {},
     "source": [
      "Since there are no self-loops, the number of directed edges is the total number of edges"
     ]
    },
    {
     "cell_type": "heading",
     "level": 4,
     "metadata": {},
     "source": [
      "d) Number of undirected edges"
     ]
    },
    {
     "cell_type": "markdown",
     "metadata": {},
     "source": [
      "Convert G to an undirected graph H and count the edges."
     ]
    },
    {
     "cell_type": "code",
     "collapsed": false,
     "input": [
      "H = nx.Graph(G)\n",
      "len(H.edges())"
     ],
     "language": "python",
     "metadata": {},
     "outputs": [
      {
       "metadata": {},
       "output_type": "pyout",
       "prompt_number": 46,
       "text": [
        "100762"
       ]
      }
     ],
     "prompt_number": 46
    },
    {
     "cell_type": "heading",
     "level": 4,
     "metadata": {},
     "source": [
      "e) Number of reciprocated edges"
     ]
    },
    {
     "cell_type": "code",
     "collapsed": false,
     "input": [
      "edge_cnt = Counter()\n",
      "for u,v in G.edges_iter():\n",
      "    if u < v: \n",
      "        edge_cnt[(u,v)] += 1\n",
      "    elif u > v:\n",
      "        edge_cnt[(v,u)] += 1\n",
      "\n",
      "recip = 0\n",
      "for e,cnt in edge_cnt.items():\n",
      "    if cnt == 2: recip += 1\n",
      "        \n",
      "recip"
     ],
     "language": "python",
     "metadata": {},
     "outputs": [
      {
       "metadata": {},
       "output_type": "pyout",
       "prompt_number": 47,
       "text": [
        "2927"
       ]
      }
     ],
     "prompt_number": 47
    },
    {
     "cell_type": "heading",
     "level": 4,
     "metadata": {},
     "source": [
      "f) Number of nodes with zero out-degree"
     ]
    },
    {
     "cell_type": "code",
     "collapsed": false,
     "input": [
      "len([n for n in G.nodes() if len(nx.DiGraph.successors(G,n)) == 0])"
     ],
     "language": "python",
     "metadata": {},
     "outputs": [
      {
       "metadata": {},
       "output_type": "pyout",
       "prompt_number": 48,
       "text": [
        "1005"
       ]
      }
     ],
     "prompt_number": 48
    },
    {
     "cell_type": "heading",
     "level": 4,
     "metadata": {},
     "source": [
      "g) Number of nodes with zero in-degree"
     ]
    },
    {
     "cell_type": "code",
     "collapsed": false,
     "input": [
      "len([n for n in G.nodes() if len(nx.DiGraph.predecessors(G,n)) == 0])"
     ],
     "language": "python",
     "metadata": {},
     "outputs": [
      {
       "metadata": {},
       "output_type": "pyout",
       "prompt_number": 49,
       "text": [
        "4734"
       ]
      }
     ],
     "prompt_number": 49
    },
    {
     "cell_type": "heading",
     "level": 4,
     "metadata": {},
     "source": [
      "h) Number of nodes with out-degree > 10"
     ]
    },
    {
     "cell_type": "code",
     "collapsed": false,
     "input": [
      "len([n for n in G.nodes() if len(nx.DiGraph.successors(G,n)) > 10])"
     ],
     "language": "python",
     "metadata": {},
     "outputs": [
      {
       "metadata": {},
       "output_type": "pyout",
       "prompt_number": 50,
       "text": [
        "1612"
       ]
      }
     ],
     "prompt_number": 50
    },
    {
     "cell_type": "heading",
     "level": 4,
     "metadata": {},
     "source": [
      "h) Number of nodes with in-degree < 10"
     ]
    },
    {
     "cell_type": "code",
     "collapsed": false,
     "input": [
      "len([n for n in G.nodes() if len(nx.DiGraph.predecessors(G,n)) < 0])"
     ],
     "language": "python",
     "metadata": {},
     "outputs": [
      {
       "metadata": {},
       "output_type": "pyout",
       "prompt_number": 51,
       "text": [
        "0"
       ]
      }
     ],
     "prompt_number": 51
    },
    {
     "cell_type": "code",
     "collapsed": false,
     "input": [],
     "language": "python",
     "metadata": {},
     "outputs": []
    },
    {
     "cell_type": "code",
     "collapsed": false,
     "input": [],
     "language": "python",
     "metadata": {},
     "outputs": []
    }
   ],
   "metadata": {}
  }
 ]
}